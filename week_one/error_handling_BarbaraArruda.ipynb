{
 "cells": [
  {
   "attachments": {},
   "cell_type": "markdown",
   "metadata": {},
   "source": [
    "1. Write a function that takes a list of integers as an argument, and returns the sum of the integers. Use a try-except block to catch any ValueError exceptions that may be raised when attempting to convert a string to an integer."
   ]
  },
  {
   "cell_type": "code",
   "execution_count": 2,
   "metadata": {},
   "outputs": [
    {
     "name": "stdout",
     "output_type": "stream",
     "text": [
      "You insert something different than number, we are going to ignore\n",
      "1 2 3 5 2 3\n"
     ]
    }
   ],
   "source": [
    "numbers = list(input().split(' '))\n",
    "numbers_convert = []\n",
    "for a in numbers:\n",
    "    try:\n",
    "        numbers_convert.append(int(a))\n",
    "    except:\n",
    "        print('You insert something different than number, we are going to ignore')\n",
    "        pass"
   ]
  },
  {
   "attachments": {},
   "cell_type": "markdown",
   "metadata": {},
   "source": [
    "2. Write a function that takes a filename as an argument, and attempts to open the file. Use a try-except block to catch any FileNotFoundError exceptions that may be raised when attempting to open the file. If the file is successfully opened, the function should return the contents of the file."
   ]
  },
  {
   "cell_type": "code",
   "execution_count": null,
   "metadata": {},
   "outputs": [],
   "source": [
    "file_name = input()\n",
    "try:\n",
    "    with open(file_name, \"r\") as file:\n",
    "        print(file.read())\n",
    "except:\n",
    "    print('File not found')"
   ]
  },
  {
   "attachments": {},
   "cell_type": "markdown",
   "metadata": {},
   "source": [
    "3. Write a function that takes a list of strings as an argument, and returns a new list containing only the strings that can be successfully converted to a float. Use a try-except block to catch any ValueError exceptions that may be raised when attempting to convert a string to a float."
   ]
  },
  {
   "cell_type": "code",
   "execution_count": null,
   "metadata": {},
   "outputs": [],
   "source": [
    "numbers = list(input().split(' '))\n",
    "numbers_convert = []\n",
    "for a in numbers:\n",
    "    try:\n",
    "        numbers_convert.append(float(a))\n",
    "    except:\n",
    "        print('You insert something different than number, we are going to ignore')\n",
    "        pass\n",
    "print(*numbers_convert)"
   ]
  },
  {
   "attachments": {},
   "cell_type": "markdown",
   "metadata": {},
   "source": [
    "4. Write a function that takes a list of dictionaries as an argument, and returns the value of a specified key from each dictionary. Use a try-except block to catch any KeyError exceptions that may be raised when attempting to access a key that does not exist in a dictionary."
   ]
  },
  {
   "cell_type": "code",
   "execution_count": 11,
   "metadata": {},
   "outputs": [
    {
     "name": "stdout",
     "output_type": "stream",
     "text": [
      "Your value for the key 1 is a\n"
     ]
    }
   ],
   "source": [
    "interactions = int(input('How many pairs of key and value are you going to insert?'))\n",
    "dictionary = {}\n",
    "\n",
    "for a in range(interactions):\n",
    "    key = input('Insert your key')\n",
    "    value = input('Insert your value')\n",
    "    dictionary[key] = value\n",
    "\n",
    "desire_key = input('Which key do you wanna see?')\n",
    "try:\n",
    "    desire_value = dictionary[desire_key]\n",
    "    print(f'Your value for the key {desire_key} is', desire_value)\n",
    "except:\n",
    "    print('This key dont exist')"
   ]
  },
  {
   "attachments": {},
   "cell_type": "markdown",
   "metadata": {},
   "source": [
    "5. Write a function that takes a list of integers as an argument, and returns the largest integer in the list. Use a try-except block to catch any ValueError exceptions that may be raised when attempting to compare elements that are not integers."
   ]
  },
  {
   "cell_type": "code",
   "execution_count": 13,
   "metadata": {},
   "outputs": [
    {
     "name": "stdout",
     "output_type": "stream",
     "text": [
      "You insert something different than number, we are going to ignore\n",
      "You insert something different than number, we are going to ignore\n",
      "21\n"
     ]
    }
   ],
   "source": [
    "numbers = list(input().split(' '))\n",
    "numbers_convert = []\n",
    "for a in numbers:\n",
    "    try:\n",
    "        numbers_convert.append(int(a))\n",
    "    except:\n",
    "        print('You insert something different than number, we are going to ignore')\n",
    "        pass\n",
    "print(max(numbers_convert))"
   ]
  }
 ],
 "metadata": {
  "kernelspec": {
   "display_name": "Python 3",
   "language": "python",
   "name": "python3"
  },
  "language_info": {
   "codemirror_mode": {
    "name": "ipython",
    "version": 3
   },
   "file_extension": ".py",
   "mimetype": "text/x-python",
   "name": "python",
   "nbconvert_exporter": "python",
   "pygments_lexer": "ipython3",
   "version": "3.11.2"
  },
  "orig_nbformat": 4,
  "vscode": {
   "interpreter": {
    "hash": "f7a5be651532581cb44625d52e18aa1d390cab54bc6b51099d8c30bea9b68219"
   }
  }
 },
 "nbformat": 4,
 "nbformat_minor": 2
}
