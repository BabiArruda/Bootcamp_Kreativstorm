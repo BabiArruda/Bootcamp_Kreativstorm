{
 "cells": [
  {
   "attachments": {},
   "cell_type": "markdown",
   "metadata": {},
   "source": [
    "1. Write a program that takes a list of numbers and returns the largest number in the list."
   ]
  },
  {
   "cell_type": "code",
   "execution_count": 1,
   "metadata": {},
   "outputs": [
    {
     "name": "stdout",
     "output_type": "stream",
     "text": [
      "9\n"
     ]
    }
   ],
   "source": [
    "numbers = [1, 2, 3, 4, 5, 6, 7, 8, 9]\n",
    "def highest(list):\n",
    "    return max(list)\n",
    "\n",
    "print(highest(numbers))"
   ]
  },
  {
   "attachments": {},
   "cell_type": "markdown",
   "metadata": {},
   "source": [
    "2. Write a program that takes a string and returns the number of vowels in the string."
   ]
  },
  {
   "cell_type": "code",
   "execution_count": 2,
   "metadata": {},
   "outputs": [
    {
     "name": "stdout",
     "output_type": "stream",
     "text": [
      "3\n"
     ]
    }
   ],
   "source": [
    "string = \"Hello, world!\"\n",
    "def vowel (list):\n",
    "    vowels = ['a', 'e', 'i', 'o', 'u']\n",
    "    list.lower()\n",
    "    count = 0\n",
    "    for a in list:\n",
    "        if a in vowels:\n",
    "            count+=1\n",
    "\n",
    "    return count\n",
    "\n",
    "print(vowel(string))"
   ]
  },
  {
   "attachments": {},
   "cell_type": "markdown",
   "metadata": {},
   "source": [
    "3. Write a program that takes a list of strings and returns a new list that contains only the strings that start with the letter 'a'."
   ]
  },
  {
   "cell_type": "code",
   "execution_count": 4,
   "metadata": {},
   "outputs": [
    {
     "name": "stdout",
     "output_type": "stream",
     "text": [
      "['apple', 'avocado']\n"
     ]
    }
   ],
   "source": [
    "strings = [\"apple\", \"banana\", \"cherry\", \"date\", 'avocado']\n",
    "def starting_letter(list):\n",
    "    new_list = []\n",
    "    for a in list:\n",
    "        if a[0] == 'a':\n",
    "            new_list.append(a)\n",
    "    return new_list\n",
    "\n",
    "print(starting_letter(strings))"
   ]
  },
  {
   "attachments": {},
   "cell_type": "markdown",
   "metadata": {},
   "source": [
    "4. Write a program that takes a sentence (string) and returns a dictionary with the count of each word in the sentence."
   ]
  },
  {
   "cell_type": "code",
   "execution_count": 31,
   "metadata": {},
   "outputs": [
    {
     "name": "stdout",
     "output_type": "stream",
     "text": [
      "For the word t the count is 4\n",
      "For the word h the count is 1\n",
      "For the word i the count is 2\n",
      "For the word s the count is 4\n",
      "For the word a the count is 1\n",
      "For the word e the count is 4\n",
      "For the word n the count is 2\n",
      "For the word c the count is 1\n"
     ]
    }
   ],
   "source": [
    "sentence = \"this is a test sentence\"\n",
    "def count_word(list):\n",
    "    words = {}\n",
    "    for a in list:\n",
    "        if not a in words.keys() and a != ' ':\n",
    "            words[a] = 1\n",
    "        elif a != ' ':\n",
    "            words[a] += 1\n",
    "\n",
    "    return words.items()\n",
    "\n",
    "result = count_word(sentence)\n",
    "for key, value in result:\n",
    "    print(f'For the word {key} the count is {value}')"
   ]
  },
  {
   "attachments": {},
   "cell_type": "markdown",
   "metadata": {},
   "source": [
    "5. Write a program that takes two lists of numbers and returns a new list that contains only the numbers that are common to both lists."
   ]
  },
  {
   "cell_type": "code",
   "execution_count": 10,
   "metadata": {},
   "outputs": [
    {
     "name": "stdout",
     "output_type": "stream",
     "text": [
      "{8, 2, 4, 6}\n"
     ]
    }
   ],
   "source": [
    "list1 = [1, 2, 3, 4, 5, 6, 7, 8, 9]\n",
    "list2 = [2, 4, 6, 8, 10, 12, 14, 16, 18]\n",
    "def union_list(listone, listtwo):\n",
    "    listone = set(listone)\n",
    "    listtwo = set(listtwo)\n",
    "    final_list = listone.intersection(listtwo)\n",
    "    return final_list\n",
    "\n",
    "print(union_list(list1, list2))"
   ]
  },
  {
   "attachments": {},
   "cell_type": "markdown",
   "metadata": {},
   "source": [
    "6. Write a program that takes a list of integers and returns a new list that contains only the prime numbers from the original list."
   ]
  },
  {
   "cell_type": "code",
   "execution_count": 23,
   "metadata": {},
   "outputs": [
    {
     "name": "stdout",
     "output_type": "stream",
     "text": [
      "[1, 2, 3, 5, 7, 11, 13]\n"
     ]
    }
   ],
   "source": [
    "numbers = [1, 2, 3, 4, 5, 6, 7, 8, 9, 10, 11, 12, 13, 14, 15]\n",
    "def prime(list):\n",
    "    result = []\n",
    "    for a in list:\n",
    "        prime = False\n",
    "        for b in range(1, int(a**0.5)+1):\n",
    "            if a%b == 0 and b !=1:\n",
    "                prime = False\n",
    "                break\n",
    "            else:\n",
    "                prime = True\n",
    "        if prime:\n",
    "            result.append(a)\n",
    "    return result\n",
    "\n",
    "\n",
    "print(prime(numbers))"
   ]
  },
  {
   "attachments": {},
   "cell_type": "markdown",
   "metadata": {},
   "source": [
    "7. Write a program that takes a string and returns the number of words in the string."
   ]
  },
  {
   "cell_type": "code",
   "execution_count": 24,
   "metadata": {},
   "outputs": [
    {
     "name": "stdout",
     "output_type": "stream",
     "text": [
      "29\n"
     ]
    }
   ],
   "source": [
    "string = \"Write a program that takes a string\"\n",
    "def count_word(list):\n",
    "    count = 0\n",
    "    for a in list:\n",
    "        if a != ' ':\n",
    "            count+=1\n",
    "    return count\n",
    "\n",
    "print(count_word(string))"
   ]
  },
  {
   "attachments": {},
   "cell_type": "markdown",
   "metadata": {},
   "source": [
    "8. Write a program that takes a list of strings and returns a new list that contains only the strings that are palindrome."
   ]
  },
  {
   "cell_type": "code",
   "execution_count": 34,
   "metadata": {},
   "outputs": [
    {
     "name": "stdout",
     "output_type": "stream",
     "text": [
      "['madam', 'level', 'civic']\n"
     ]
    }
   ],
   "source": [
    "strings = [\"madam\", \"job\", \"level\", \"civic\", \"car\"]\n",
    "def palindrome (list):\n",
    "    result = []\n",
    "    for a in list:\n",
    "        if a == a[::-1]:\n",
    "            result.append(a)\n",
    "\n",
    "    return result\n",
    "\n",
    "print(palindrome(strings))\n"
   ]
  },
  {
   "attachments": {},
   "cell_type": "markdown",
   "metadata": {},
   "source": [
    "9. Write a program that takes a sentence (string) and returns a tuple of the most frequent word and its frequency."
   ]
  },
  {
   "cell_type": "code",
   "execution_count": 53,
   "metadata": {},
   "outputs": [
    {
     "name": "stdout",
     "output_type": "stream",
     "text": [
      "('test', 3)\n"
     ]
    }
   ],
   "source": [
    "sentence = \"this is a test sentence to test the test\"\n",
    "def frequency (list):\n",
    "    new_list = [i for i in list.split(' ')]\n",
    "    temp_list = {}\n",
    "    for a in new_list:\n",
    "        if not a in temp_list.keys() and a != ' ':\n",
    "            temp_list[a] = 1\n",
    "        elif a != ' ':\n",
    "            temp_list[a] += 1\n",
    "\n",
    "    value_max = max(temp_list.values())\n",
    "    for key, value in temp_list.items():\n",
    "        if value ==  value_max:\n",
    "            result = (key, value)\n",
    "            break\n",
    "\n",
    "    return result\n",
    "\n",
    "print(frequency(sentence))\n"
   ]
  }
 ],
 "metadata": {
  "kernelspec": {
   "display_name": "Python 3",
   "language": "python",
   "name": "python3"
  },
  "language_info": {
   "codemirror_mode": {
    "name": "ipython",
    "version": 3
   },
   "file_extension": ".py",
   "mimetype": "text/x-python",
   "name": "python",
   "nbconvert_exporter": "python",
   "pygments_lexer": "ipython3",
   "version": "3.11.4"
  },
  "orig_nbformat": 4,
  "vscode": {
   "interpreter": {
    "hash": "f7a5be651532581cb44625d52e18aa1d390cab54bc6b51099d8c30bea9b68219"
   }
  }
 },
 "nbformat": 4,
 "nbformat_minor": 2
}
