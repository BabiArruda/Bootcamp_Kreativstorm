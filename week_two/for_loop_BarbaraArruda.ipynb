{
 "cells": [
  {
   "attachments": {},
   "cell_type": "markdown",
   "metadata": {},
   "source": [
    "1. Create a for loop that iterates through a list of strings and prints each string in uppercase."
   ]
  },
  {
   "cell_type": "code",
   "execution_count": 1,
   "metadata": {},
   "outputs": [
    {
     "name": "stdout",
     "output_type": "stream",
     "text": [
      "hi\n",
      "love\n",
      "hey\n",
      "sweet\n",
      "train\n",
      "rain\n"
     ]
    }
   ],
   "source": [
    "string = list(map(str, input('Enter you word').split(',')))\n",
    "for a in string:\n",
    "    print(a)"
   ]
  },
  {
   "attachments": {},
   "cell_type": "markdown",
   "metadata": {},
   "source": [
    "2. Create a for loop that iterates through a list of numbers and prints the square of each number."
   ]
  },
  {
   "cell_type": "code",
   "execution_count": 5,
   "metadata": {},
   "outputs": [
    {
     "name": "stdout",
     "output_type": "stream",
     "text": [
      "The square root of the number is 3.87\n",
      "The square root of the number is 5.0\n",
      "The square root of the number is 10.0\n",
      "The square root of the number is 3.61\n"
     ]
    }
   ],
   "source": [
    "integer = list(map(int, input('Enter the number').split(',')))\n",
    "for a in integer:\n",
    "    result = round(a**0.5,2)\n",
    "    print(f'The square root of the number is {result}')"
   ]
  },
  {
   "attachments": {},
   "cell_type": "markdown",
   "metadata": {},
   "source": [
    "3. Create a for loop that iterates through a list of dictionaries and prints the value of a specified key for each dictionary."
   ]
  },
  {
   "cell_type": "code",
   "execution_count": 7,
   "metadata": {},
   "outputs": [
    {
     "name": "stdout",
     "output_type": "stream",
     "text": [
      "For key: 1 the value is a\n",
      "For key: 2 the value is b\n",
      "For key: 3 the value is c\n",
      "For key: 4 the value is d\n",
      "For key: 5 the value is e\n",
      "For key: 6 the value is f\n"
     ]
    }
   ],
   "source": [
    "words = {1:'a', 2:'b', 3:'c', 4:'d', 5:'e', 6:'f'}\n",
    "for key, value in words.items():\n",
    "    print(f'For key: {key} the value is {value}')"
   ]
  },
  {
   "attachments": {},
   "cell_type": "markdown",
   "metadata": {},
   "source": [
    "4. Create a for loop that iterates through a list of numbers and prints the largest number in the list."
   ]
  },
  {
   "cell_type": "code",
   "execution_count": 8,
   "metadata": {},
   "outputs": [
    {
     "name": "stdout",
     "output_type": "stream",
     "text": [
      "366\n"
     ]
    }
   ],
   "source": [
    "integer = list(map(int, input('Enter the number').split(',')))\n",
    "max = 0\n",
    "for a in integer:\n",
    "    if a > max:\n",
    "        max = a\n",
    "print(max)"
   ]
  },
  {
   "attachments": {},
   "cell_type": "markdown",
   "metadata": {},
   "source": [
    "5. Create a for loop that iterates through a list of lists and prints the sum of the elements in each sub-list."
   ]
  },
  {
   "cell_type": "code",
   "execution_count": 10,
   "metadata": {},
   "outputs": [
    {
     "name": "stdout",
     "output_type": "stream",
     "text": [
      "The sum in this sublist is: 3\n",
      "The sum in this sublist is: 7\n",
      "The sum in this sublist is: 11\n",
      "The sum in this sublist is: 15\n",
      "The sum in this sublist is: 19\n"
     ]
    }
   ],
   "source": [
    "matrix = [[1,2],[3,4],[5,6],[7,8],[9,10]]\n",
    "\n",
    "for a in matrix:\n",
    "    print(f'The sum in this sublist is: {sum(a)}')"
   ]
  }
 ],
 "metadata": {
  "kernelspec": {
   "display_name": "barba-qctBJ61-",
   "language": "python",
   "name": "python3"
  },
  "language_info": {
   "codemirror_mode": {
    "name": "ipython",
    "version": 3
   },
   "file_extension": ".py",
   "mimetype": "text/x-python",
   "name": "python",
   "nbconvert_exporter": "python",
   "pygments_lexer": "ipython3",
   "version": "3.11.4"
  },
  "orig_nbformat": 4
 },
 "nbformat": 4,
 "nbformat_minor": 2
}
