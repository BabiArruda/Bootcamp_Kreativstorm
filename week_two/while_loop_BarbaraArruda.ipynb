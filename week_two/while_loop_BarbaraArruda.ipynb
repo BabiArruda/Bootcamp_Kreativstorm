{
 "cells": [
  {
   "attachments": {},
   "cell_type": "markdown",
   "metadata": {},
   "source": [
    "1. Create a while loop that repeatedly takes user input and adds the input to a list until the user enters \"done\"."
   ]
  },
  {
   "cell_type": "code",
   "execution_count": 3,
   "metadata": {},
   "outputs": [
    {
     "name": "stdout",
     "output_type": "stream",
     "text": [
      "Your list is: ['5', '25', '36']\n"
     ]
    }
   ],
   "source": [
    "words = []\n",
    "\n",
    "while True:\n",
    "    value = input('Enter your input, if you finished enter done')\n",
    "    if value == 'done':\n",
    "        break\n",
    "    else:\n",
    "        words.append(value)\n",
    "\n",
    "print(f'Your list is: {words}')"
   ]
  },
  {
   "attachments": {},
   "cell_type": "markdown",
   "metadata": {},
   "source": [
    "2. Create a while loop that generates random numbers and adds them to a list until the sum of all numbers in the list is greater than 100."
   ]
  },
  {
   "cell_type": "code",
   "execution_count": 6,
   "metadata": {},
   "outputs": [
    {
     "name": "stdout",
     "output_type": "stream",
     "text": [
      "108 [28, 31, 22, 27]\n"
     ]
    }
   ],
   "source": [
    "import random\n",
    "result = 0\n",
    "integer = []\n",
    "\n",
    "while result <=100:\n",
    "    integer.append(random.randint(0,50))\n",
    "    result = sum(integer)\n",
    "print(result, integer)"
   ]
  },
  {
   "attachments": {},
   "cell_type": "markdown",
   "metadata": {},
   "source": [
    "3. Create a while loop that repeatedly takes user input and appends it to a list, but only if the input is a unique string."
   ]
  },
  {
   "cell_type": "code",
   "execution_count": 8,
   "metadata": {},
   "outputs": [
    {
     "name": "stdout",
     "output_type": "stream",
     "text": [
      "Your list is: ['hey', 'love', 'you', 'magical']\n"
     ]
    }
   ],
   "source": [
    "words = []\n",
    "\n",
    "while True:\n",
    "    value = input('Enter your input, if you finished enter done')\n",
    "    if value == 'done':\n",
    "        break\n",
    "    elif not value in words:\n",
    "        words.append(value)\n",
    "\n",
    "print(f'Your list is: {words}')"
   ]
  },
  {
   "attachments": {},
   "cell_type": "markdown",
   "metadata": {},
   "source": [
    "4. Create a while loop that repeatedly takes user input and appends it to a list, but only if the input is a number greater than 10."
   ]
  },
  {
   "cell_type": "code",
   "execution_count": 9,
   "metadata": {},
   "outputs": [
    {
     "name": "stdout",
     "output_type": "stream",
     "text": [
      "Your list is: [12, 23]\n"
     ]
    }
   ],
   "source": [
    "integer = []\n",
    "\n",
    "while True:\n",
    "    value = input('Enter your input, if you finished enter done')\n",
    "    if value == 'done':\n",
    "        break\n",
    "    elif int(value) > 10:\n",
    "        integer.append(int(value))\n",
    "\n",
    "print(f'Your list is: {integer}')"
   ]
  },
  {
   "attachments": {},
   "cell_type": "markdown",
   "metadata": {},
   "source": [
    "5. Create a while loop that repeatedly takes user input and keeps track of the highest number entered until the user enters \"done\"."
   ]
  },
  {
   "cell_type": "code",
   "execution_count": 10,
   "metadata": {},
   "outputs": [
    {
     "name": "stdout",
     "output_type": "stream",
     "text": [
      "The highest number entered is: 52\n"
     ]
    }
   ],
   "source": [
    "integer = 0\n",
    "\n",
    "while True:\n",
    "    value = input('Enter your input, if you finished enter done')\n",
    "    if value == 'done':\n",
    "        break\n",
    "    elif int(value) > integer:\n",
    "        integer = (int(value))\n",
    "\n",
    "print(f'The highest number entered is: {integer}')"
   ]
  }
 ],
 "metadata": {
  "kernelspec": {
   "display_name": "barba-qctBJ61-",
   "language": "python",
   "name": "python3"
  },
  "language_info": {
   "codemirror_mode": {
    "name": "ipython",
    "version": 3
   },
   "file_extension": ".py",
   "mimetype": "text/x-python",
   "name": "python",
   "nbconvert_exporter": "python",
   "pygments_lexer": "ipython3",
   "version": "3.11.4"
  },
  "orig_nbformat": 4
 },
 "nbformat": 4,
 "nbformat_minor": 2
}
