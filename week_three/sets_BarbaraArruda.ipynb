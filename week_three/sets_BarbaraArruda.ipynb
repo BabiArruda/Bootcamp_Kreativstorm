{
 "cells": [
  {
   "attachments": {},
   "cell_type": "markdown",
   "metadata": {},
   "source": [
    "1. Given two sets A and B, write a function to return the symmetric difference between them as a new set. The symmetric difference is the set of elements that are in either A or B, but not in both."
   ]
  },
  {
   "cell_type": "code",
   "execution_count": 2,
   "metadata": {},
   "outputs": [
    {
     "name": "stdout",
     "output_type": "stream",
     "text": [
      "{1, 2, 3, 17, 9, 11, 15}\n"
     ]
    }
   ],
   "source": [
    "a = {1,2,3,4,5,6,7,8}\n",
    "b = {6,5,4,7,8,9,11,15,17}\n",
    "result_a = a.difference(b)\n",
    "result_b = b.difference(a)\n",
    "result = result_a.union(result_b)\n",
    "print(result)"
   ]
  },
  {
   "attachments": {},
   "cell_type": "markdown",
   "metadata": {},
   "source": [
    "2. Given a list of numbers, write a function to return a set of all prime numbers from the list."
   ]
  },
  {
   "cell_type": "code",
   "execution_count": 3,
   "metadata": {},
   "outputs": [
    {
     "name": "stdout",
     "output_type": "stream",
     "text": [
      "{1, 7, 73, 13, 23}\n"
     ]
    }
   ],
   "source": [
    "numbers = [1,13,25,23,13,15,7,9,73,100,51]\n",
    "result =set()\n",
    "for a in numbers:\n",
    "    prime = False\n",
    "    for b in range(1, int(a**0.5)+1):\n",
    "        if a%b == 0 and b !=1:\n",
    "            prime = False\n",
    "            break\n",
    "        else:\n",
    "            prime = True\n",
    "    if prime:\n",
    "        result.add(a)\n",
    "\n",
    "print(result)"
   ]
  },
  {
   "attachments": {},
   "cell_type": "markdown",
   "metadata": {},
   "source": [
    "3. Given a list of words, write a function to return a set of all anagrams in the list."
   ]
  },
  {
   "cell_type": "code",
   "execution_count": 17,
   "metadata": {},
   "outputs": [
    {
     "name": "stdout",
     "output_type": "stream",
     "text": [
      "{'enlist', 'skin', 'hater', 'listen', 'silent', 'inks', 'sink', 'rathe', 'heart', 'tinsel', 'earth'}\n"
     ]
    }
   ],
   "source": [
    "from nltk.corpus import words\n",
    "import itertools\n",
    "\n",
    "dictionary = set(words.words())\n",
    "list_words =['sink', 'silent', 'heart']\n",
    "result = set()\n",
    "for a in list_words:\n",
    "    perms = itertools.permutations(a)\n",
    "    word_perm = [''.join(p) for p in perms]\n",
    "    for b in word_perm:\n",
    "        if b in dictionary:\n",
    "            result.add(b)\n",
    "    word_perm.clear()\n",
    "print(result)"
   ]
  },
  {
   "attachments": {},
   "cell_type": "markdown",
   "metadata": {},
   "source": [
    "4. Given a list of sets, write a function to return the Cartesian product of all sets in the list."
   ]
  },
  {
   "cell_type": "code",
   "execution_count": 23,
   "metadata": {},
   "outputs": [
    {
     "name": "stdout",
     "output_type": "stream",
     "text": [
      "{(7, 20), (3, 7), (4, 6), (9, 2), (9, 5), (9, 8), (1, 6), (15, 2), (9, 20), (15, 5), (6, 2), (7, 7), (6, 5), (15, 8), (6, 8), (6, 20), (4, 2), (15, 20), (4, 5), (4, 8), (3, 6), (9, 7), (4, 20), (1, 2), (1, 5), (1, 8), (15, 7), (1, 20), (6, 7), (7, 6), (3, 2), (4, 7), (3, 5), (3, 8), (9, 6), (3, 20), (1, 7), (15, 6), (7, 2), (6, 6), (7, 5), (7, 8)}\n"
     ]
    }
   ],
   "source": [
    "import itertools\n",
    "\n",
    "a={1,3,4,6,7,9,15}\n",
    "b={2,6,5,7,8,20}\n",
    "\n",
    "result =[i for i in itertools.product(a,b)]\n",
    "\n",
    "print(set(result))"
   ]
  }
 ],
 "metadata": {
  "kernelspec": {
   "display_name": "Python 3",
   "language": "python",
   "name": "python3"
  },
  "language_info": {
   "codemirror_mode": {
    "name": "ipython",
    "version": 3
   },
   "file_extension": ".py",
   "mimetype": "text/x-python",
   "name": "python",
   "nbconvert_exporter": "python",
   "pygments_lexer": "ipython3",
   "version": "3.11.4"
  },
  "orig_nbformat": 4,
  "vscode": {
   "interpreter": {
    "hash": "f7a5be651532581cb44625d52e18aa1d390cab54bc6b51099d8c30bea9b68219"
   }
  }
 },
 "nbformat": 4,
 "nbformat_minor": 2
}
