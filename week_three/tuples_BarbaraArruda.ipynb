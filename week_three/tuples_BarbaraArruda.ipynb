{
 "cells": [
  {
   "attachments": {},
   "cell_type": "markdown",
   "metadata": {},
   "source": [
    "1. Write a function to find the most common elements in a tuple."
   ]
  },
  {
   "cell_type": "code",
   "execution_count": 28,
   "metadata": {},
   "outputs": [
    {
     "name": "stdout",
     "output_type": "stream",
     "text": [
      "Counter({1: 5, 2: 4, 3: 3, 4: 1})\n"
     ]
    }
   ],
   "source": [
    "from collections import Counter\n",
    "integers = (1,2,3,4,1,2,3,1,2,3,1,2,1)\n",
    "result = Counter(integers).most_common(1)\n",
    "print(result)"
   ]
  },
  {
   "attachments": {},
   "cell_type": "markdown",
   "metadata": {},
   "source": [
    "2. Write a function to check if a given tuple is a palindrome, meaning the elements are the same in reverse order."
   ]
  },
  {
   "cell_type": "code",
   "execution_count": 20,
   "metadata": {},
   "outputs": [
    {
     "name": "stdout",
     "output_type": "stream",
     "text": [
      "madam\n",
      "level\n",
      "civic\n"
     ]
    }
   ],
   "source": [
    "strings = (\"madam\", \"job\", \"level\", \"civic\", \"car\")\n",
    "for a in strings :\n",
    "    if a[:] == a[::-1]:\n",
    "        print(a)"
   ]
  },
  {
   "attachments": {},
   "cell_type": "markdown",
   "metadata": {},
   "source": [
    "3. Write a function to find the frequency of elements in a tuple, and return a dictionary mapping each element to its frequency."
   ]
  },
  {
   "cell_type": "code",
   "execution_count": 26,
   "metadata": {},
   "outputs": [
    {
     "name": "stdout",
     "output_type": "stream",
     "text": [
      "For number: 1 the frequency is 5\n",
      "For number: 2 the frequency is 4\n",
      "For number: 3 the frequency is 3\n",
      "For number: 4 the frequency is 1\n"
     ]
    }
   ],
   "source": [
    "from collections import Counter\n",
    "integers = (1,2,3,4,1,2,3,1,2,3,1,2,1)\n",
    "result = Counter(integers).most_common()\n",
    "new_result = dict((x,y) for x,y in result)\n",
    "\n",
    "for key, value in new_result.items():\n",
    "    print(f'For number: {key} the frequency is {value}')"
   ]
  },
  {
   "attachments": {},
   "cell_type": "markdown",
   "metadata": {},
   "source": [
    "4. Write a function that takes a tuple as an argument and returns a new tuple with only the even elements from the original tuple."
   ]
  },
  {
   "cell_type": "code",
   "execution_count": 27,
   "metadata": {},
   "outputs": [
    {
     "name": "stdout",
     "output_type": "stream",
     "text": [
      "(1, 3, 1, 3, 1, 3, 1, 1)\n"
     ]
    }
   ],
   "source": [
    "integers = (1,2,3,4,1,2,3,1,2,3,1,2,1)\n",
    "new_integers = ()\n",
    "for a in integers:\n",
    "    if a%2!=0:\n",
    "        new_integers = new_integers +(a,)\n",
    "print(new_integers)\n"
   ]
  },
  {
   "attachments": {},
   "cell_type": "markdown",
   "metadata": {},
   "source": [
    "5. Write a function to find all unique elements in a tuple and return them in a new tuple."
   ]
  },
  {
   "cell_type": "code",
   "execution_count": 29,
   "metadata": {},
   "outputs": [
    {
     "name": "stdout",
     "output_type": "stream",
     "text": [
      "(4, 25)\n"
     ]
    }
   ],
   "source": [
    "integers = (1,2,3,4,1,2,3,1,2,3,1,2,1,25)\n",
    "result = Counter(integers).most_common()\n",
    "new_result = dict((x,y) for x,y in result)\n",
    "new_integers= ()\n",
    "for key, value in new_result.items():\n",
    "    if value == 1:\n",
    "        new_integers = new_integers +(key,)\n",
    "print(new_integers)"
   ]
  }
 ],
 "metadata": {
  "kernelspec": {
   "display_name": "Python 3",
   "language": "python",
   "name": "python3"
  },
  "language_info": {
   "codemirror_mode": {
    "name": "ipython",
    "version": 3
   },
   "file_extension": ".py",
   "mimetype": "text/x-python",
   "name": "python",
   "nbconvert_exporter": "python",
   "pygments_lexer": "ipython3",
   "version": "3.11.4"
  },
  "orig_nbformat": 4,
  "vscode": {
   "interpreter": {
    "hash": "f7a5be651532581cb44625d52e18aa1d390cab54bc6b51099d8c30bea9b68219"
   }
  }
 },
 "nbformat": 4,
 "nbformat_minor": 2
}
