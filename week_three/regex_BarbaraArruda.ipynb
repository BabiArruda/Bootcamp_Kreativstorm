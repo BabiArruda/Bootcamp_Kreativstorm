{
 "cells": [
  {
   "attachments": {},
   "cell_type": "markdown",
   "metadata": {},
   "source": [
    "1.  Write a regular expression that matches a date in the format dd/mm/yyyy. For example, the string \"01/01/2021\" should match."
   ]
  },
  {
   "cell_type": "code",
   "execution_count": 1,
   "metadata": {},
   "outputs": [
    {
     "name": "stdout",
     "output_type": "stream",
     "text": [
      "True\n",
      "False\n"
     ]
    }
   ],
   "source": [
    "import re\n",
    "\n",
    "def validation_phone(string):\n",
    "    return not(re.match(r\"^(0[1-9]|[1-2][0-9]|3[0-1])\\/(0[1-9]|[1][0-2]|)\\/[0-9]{4}$\", string)\n",
    "        == None\n",
    ")\n",
    "\n",
    "test = '01/01/2021'\n",
    "test2 = '32/15/2022'\n",
    "print(validation_date(test))\n",
    "print(validation_date(test2))"
   ]
  },
  {
   "attachments": {},
   "cell_type": "markdown",
   "metadata": {},
   "source": [
    "2. Write a regular expression that matches a phone number in the format xxx-xxx-xxxx, where x is a digit. For example, the string \"123-456-7890\" should match."
   ]
  },
  {
   "cell_type": "code",
   "execution_count": 1,
   "metadata": {},
   "outputs": [
    {
     "name": "stdout",
     "output_type": "stream",
     "text": [
      "False\n",
      "True\n"
     ]
    }
   ],
   "source": [
    "import re\n",
    "\n",
    "def validation_phone(string):\n",
    "    return not(re.match(r\"^[0-9]{3}\\-[0-9]{3}\\-[0-9]{4}$\", string)\n",
    "        == None\n",
    ")\n",
    "\n",
    "test = '01-01-2021'\n",
    "test2 = '322-151-2022'\n",
    "print(validation_phone(test))\n",
    "print(validation_phone(test2))"
   ]
  },
  {
   "attachments": {},
   "cell_type": "markdown",
   "metadata": {},
   "source": [
    "3. Write a regular expression that matches a valid email address. For example, the string \"example@example.com\" should match."
   ]
  },
  {
   "cell_type": "code",
   "execution_count": 3,
   "metadata": {},
   "outputs": [
    {
     "name": "stdout",
     "output_type": "stream",
     "text": [
      "True\n",
      "False\n"
     ]
    }
   ],
   "source": [
    "import re\n",
    "\n",
    "def validation_email(string):\n",
    "    return not(re.match(r\"^[a-zA-Z0-9!#$%&'*+\\-=?^_{|\\.\\/]+@[a-zA-Z0-9\\.-]+\\.[com|org|net]{3}$\", string)\n",
    "        == None\n",
    ")\n",
    "\n",
    "test = 'example@example.com'\n",
    "test2 = 'example_@123@example.com'\n",
    "print(validation_email(test))\n",
    "print(validation_email(test2))"
   ]
  },
  {
   "attachments": {},
   "cell_type": "markdown",
   "metadata": {},
   "source": [
    "4. Write a regular expression that matches a string that starts with a word, followed by one or more whitespace characters, followed by another word. For example, the string \"hello world\" should match."
   ]
  },
  {
   "cell_type": "code",
   "execution_count": 4,
   "metadata": {},
   "outputs": [
    {
     "name": "stdout",
     "output_type": "stream",
     "text": [
      "True\n",
      "False\n"
     ]
    }
   ],
   "source": [
    "import re\n",
    "\n",
    "def validation_phrase(string):\n",
    "    return not(re.match(r\"^\\S+\\W+\\S+$\", string)\n",
    "        == None\n",
    ")\n",
    "\n",
    "test = 'hello word'\n",
    "test2 = ' hi world'\n",
    "print(validation_phrase(test))\n",
    "print(validation_phrase(test2))"
   ]
  },
  {
   "attachments": {},
   "cell_type": "markdown",
   "metadata": {},
   "source": [
    "5. Write a regular expression that matches a string that contains a number with exactly two decimal places. For example, the string \"1.23\" should match, but the string \"1.234\" should not match."
   ]
  },
  {
   "cell_type": "code",
   "execution_count": 5,
   "metadata": {},
   "outputs": [
    {
     "name": "stdout",
     "output_type": "stream",
     "text": [
      "True\n",
      "False\n"
     ]
    }
   ],
   "source": [
    "import re\n",
    "\n",
    "def validation_decimal(string):\n",
    "    return not(re.match(r\"^[0-9]++\\.+[0-9]{2}$\", string)\n",
    "        == None\n",
    ")\n",
    "\n",
    "test = '21.23'\n",
    "test2 = '21.234'\n",
    "print(validation_decimal(test))\n",
    "print(validation_decimal(test2))"
   ]
  }
 ],
 "metadata": {
  "kernelspec": {
   "display_name": "Python 3",
   "language": "python",
   "name": "python3"
  },
  "language_info": {
   "codemirror_mode": {
    "name": "ipython",
    "version": 3
   },
   "file_extension": ".py",
   "mimetype": "text/x-python",
   "name": "python",
   "nbconvert_exporter": "python",
   "pygments_lexer": "ipython3",
   "version": "3.11.4"
  },
  "orig_nbformat": 4,
  "vscode": {
   "interpreter": {
    "hash": "f7a5be651532581cb44625d52e18aa1d390cab54bc6b51099d8c30bea9b68219"
   }
  }
 },
 "nbformat": 4,
 "nbformat_minor": 2
}
