{
 "cells": [
  {
   "attachments": {},
   "cell_type": "markdown",
   "metadata": {},
   "source": [
    "1. Create a class called Rectangle that has attributes width and height. Add methods area and perimeter that calculate the area and perimeter of the rectangle, respectively."
   ]
  },
  {
   "cell_type": "code",
   "execution_count": 2,
   "metadata": {},
   "outputs": [
    {
     "name": "stdout",
     "output_type": "stream",
     "text": [
      "The area from the retangle is 700\n",
      "The perimeter from the retangle is 110\n"
     ]
    }
   ],
   "source": [
    "class Rectangle:\n",
    "    def __init__(self, widht, height):\n",
    "        self.widht = widht\n",
    "        self.height = height\n",
    "\n",
    "    def area(self):\n",
    "        area = self.widht*self.height\n",
    "        return area\n",
    "\n",
    "    def perimeter(self):\n",
    "        perim = self.height*2+self.widht*2\n",
    "        return perim\n",
    "new_object = Rectangle(20,35)\n",
    "print(f'The area from the retangle is {new_object.area()}')\n",
    "print(f'The perimeter from the retangle is {new_object.perimeter()}')"
   ]
  },
  {
   "attachments": {},
   "cell_type": "markdown",
   "metadata": {},
   "source": [
    "2. Create a class called Circle that has attribute radius. Add methods area and circumference that calculate the area and circumference of the circle, respectively."
   ]
  },
  {
   "cell_type": "code",
   "execution_count": 4,
   "metadata": {},
   "outputs": [
    {
     "name": "stdout",
     "output_type": "stream",
     "text": [
      "The area from the circle is 47.124\n",
      "The circumference from the circle is 94.248\n"
     ]
    }
   ],
   "source": [
    "import math\n",
    "class Circle:\n",
    "    def __init__(self, radius):\n",
    "        self.radius = radius\n",
    "\n",
    "    def area(self):\n",
    "        area = round(self.radius*math.pi,3)\n",
    "        return area\n",
    "\n",
    "    def circumference(self):\n",
    "        circum = round(self.radius*2*math.pi,3)\n",
    "        return circum\n",
    "\n",
    "new_object = Circle(15)\n",
    "print(f'The area from the circle is {new_object.area()}')\n",
    "print(f'The circumference from the circle is {new_object.circumference()}')"
   ]
  },
  {
   "attachments": {},
   "cell_type": "markdown",
   "metadata": {},
   "source": [
    "3. Create a class called Car that has attributes make, model, and year. Add methods start and stop that simulate starting and stopping the car, respectively."
   ]
  },
  {
   "cell_type": "code",
   "execution_count": 6,
   "metadata": {},
   "outputs": [
    {
     "name": "stdout",
     "output_type": "stream",
     "text": [
      "Engine from car Nissan March started\n",
      "Engine from car Nissan March stoped\n"
     ]
    }
   ],
   "source": [
    "class Car():\n",
    "    def __init__(self, make, model, year):\n",
    "        self.make = make\n",
    "        self.model = model\n",
    "        self.year = year\n",
    "\n",
    "    def start(self):\n",
    "        return f'Engine from car {self.make} {self.model} started'\n",
    "\n",
    "    def stop(self):\n",
    "        return f'Engine from car {self.make} {self.model} stoped'\n",
    "new_object = Car('Nissan', 'March', '2016')\n",
    "print(new_object.start())\n",
    "print(new_object.stop())"
   ]
  },
  {
   "attachments": {},
   "cell_type": "markdown",
   "metadata": {},
   "source": [
    "4. Create a class called Dice that has attribute sides (the number of sides on the dice). Add a method roll that generates a random number between 1 and the number of sides on the dice."
   ]
  },
  {
   "cell_type": "code",
   "execution_count": 7,
   "metadata": {},
   "outputs": [
    {
     "name": "stdout",
     "output_type": "stream",
     "text": [
      "Your number is 12\n"
     ]
    }
   ],
   "source": [
    "import random\n",
    "\n",
    "class Dice():\n",
    "    def __init__(self, sides):\n",
    "        self.sides = sides\n",
    "\n",
    "    def roll(self):\n",
    "        number = random.randrange(1, self.sides)\n",
    "        return number\n",
    "\n",
    "new_object = Dice(20)\n",
    "print(f'Your number is {new_object.roll()}')"
   ]
  },
  {
   "attachments": {},
   "cell_type": "markdown",
   "metadata": {},
   "source": [
    "5. Create a class called Temperature that has attribute celsius (a temperature in degrees Celsius). Add methods to_fahrenheit and to_kelvin that convert the temperature to degrees Fahrenheit and Kelvin, respectively."
   ]
  },
  {
   "cell_type": "code",
   "execution_count": 8,
   "metadata": {},
   "outputs": [
    {
     "name": "stdout",
     "output_type": "stream",
     "text": [
      "The temperature in fahrenheit is 44.6 and in Kelvin is 280.15\n"
     ]
    }
   ],
   "source": [
    "class Temperature():\n",
    "    def __init__(self, celsius):\n",
    "        self.celsius = celsius\n",
    "\n",
    "    def to_fahrenheit(self):\n",
    "        fahr = (self.celsius*9/5)+32\n",
    "        return fahr\n",
    "\n",
    "    def to_kelvin(self):\n",
    "        kev = self.celsius+273.15\n",
    "        return kev\n",
    "\n",
    "new_object = Temperature(7)\n",
    "print(f'The temperature in fahrenheit is {new_object.to_fahrenheit()} and in Kelvin is {new_object.to_kelvin()}')"
   ]
  },
  {
   "attachments": {},
   "cell_type": "markdown",
   "metadata": {},
   "source": [
    "6. Create a class called Book that has attributes title, author, and publication_year. Add a method get_age that calculates how many years ago the book was published."
   ]
  },
  {
   "cell_type": "code",
   "execution_count": null,
   "metadata": {},
   "outputs": [],
   "source": []
  },
  {
   "cell_type": "markdown",
   "metadata": {},
   "source": []
  },
  {
   "cell_type": "code",
   "execution_count": 18,
   "metadata": {},
   "outputs": [
    {
     "name": "stdout",
     "output_type": "stream",
     "text": [
      "The book Great Gatsby was published at 111 years\n"
     ]
    }
   ],
   "source": [
    "import datetime\n",
    "\n",
    "class Book():\n",
    "    def __init__(self, title, author, publication_year):\n",
    "        self.title = title\n",
    "        self.author = author\n",
    "        self.publication = publication_year\n",
    "\n",
    "    def get_age(self):\n",
    "        today = datetime.date.today().year\n",
    "        age = today - int(self.publication)\n",
    "        return age\n",
    "\n",
    "new_object = Book('Great Gatsby', 'Fitzgerald', '1913')\n",
    "print(f'The book {new_object.title} was published at {new_object.get_age()} years')"
   ]
  },
  {
   "attachments": {},
   "cell_type": "markdown",
   "metadata": {},
   "source": [
    "7. Create a class called Rectangle that has attributes width and height. Add methods __str__ and __repr__ that return a string representation of the rectangle object."
   ]
  },
  {
   "cell_type": "code",
   "execution_count": 19,
   "metadata": {},
   "outputs": [
    {
     "name": "stdout",
     "output_type": "stream",
     "text": [
      "The represation of __str__ method is Rectangle(width=20, height=35)\n",
      "The represation of __repr__ method is Rectangle(width=20, height=35)\n"
     ]
    }
   ],
   "source": [
    "class Rectangle:\n",
    "    def __init__(self, widht, height):\n",
    "        self.widht = widht\n",
    "        self.height = height\n",
    "\n",
    "    def __str__(self):\n",
    "        return f\"Rectangle(width={self.widht}, height={self.height})\"\n",
    "\n",
    "    def __repr__(self):\n",
    "        return f\"Rectangle(width={self.widht}, height={self.height})\"\n",
    "\n",
    "new_object = Rectangle(20,35)\n",
    "print(f'The represation of __str__ method is {new_object.__str__()}')\n",
    "print(f'The represation of __repr__ method is {new_object.__repr__()}')"
   ]
  }
 ],
 "metadata": {
  "kernelspec": {
   "display_name": "Python 3",
   "language": "python",
   "name": "python3"
  },
  "language_info": {
   "codemirror_mode": {
    "name": "ipython",
    "version": 3
   },
   "file_extension": ".py",
   "mimetype": "text/x-python",
   "name": "python",
   "nbconvert_exporter": "python",
   "pygments_lexer": "ipython3",
   "version": "3.11.4"
  },
  "orig_nbformat": 4
 },
 "nbformat": 4,
 "nbformat_minor": 2
}
